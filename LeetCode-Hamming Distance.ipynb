{
 "cells": [
  {
   "cell_type": "code",
   "execution_count": 48,
   "metadata": {},
   "outputs": [],
   "source": [
    "# 1.将十进制数转换为二进制\n",
    "# 2.遍历两个list，若对应元素一致则 ++1\n",
    "\n",
    "class Solution(object):\n",
    "    \n",
    "    def hammingDistance(self, x, y):\n",
    "        X = []\n",
    "        Y = []\n",
    "        c = 0\n",
    "        X = f(x)\n",
    "        Y = f(y)\n",
    "        print(X,Y)\n",
    "        for i in range(len(Y)):\n",
    "            if (X[i] != Y[i]):\n",
    "                c = c + 1\n",
    "        return c\n",
    "    \n",
    "    def f(x):\n",
    "        A = []\n",
    "        if x < 1 and x >=0:\n",
    "            return x\n",
    "        else:\n",
    "            while(x>1):\n",
    "                A.append(x%2)\n",
    "                x = int(x/2)\n",
    "        A.append(x)\n",
    "        while(len(A)<32):\n",
    "            A.append(0)\n",
    "        A.reverse()\n",
    "        return A\n",
    "    \n",
    "    \n",
    "        \n",
    "        "
   ]
  },
  {
   "cell_type": "code",
   "execution_count": 49,
   "metadata": {},
   "outputs": [
    {
     "name": "stdout",
     "output_type": "stream",
     "text": [
      "[0, 0, 0, 0, 0, 0, 0, 0, 0, 0, 0, 0, 0, 0, 0, 0, 0, 0, 0, 0, 0, 0, 0, 0, 0, 0, 0, 0, 0, 0, 0, 1] [0, 0, 0, 0, 0, 0, 0, 0, 0, 0, 0, 0, 0, 0, 0, 0, 0, 0, 0, 0, 0, 0, 0, 0, 0, 0, 0, 0, 0, 1, 0, 0]\n"
     ]
    },
    {
     "data": {
      "text/plain": [
       "2"
      ]
     },
     "execution_count": 49,
     "metadata": {},
     "output_type": "execute_result"
    }
   ],
   "source": [
    "test = Solution()\n",
    "test.hammingDistance(1,4)"
   ]
  },
  {
   "cell_type": "code",
   "execution_count": null,
   "metadata": {
    "collapsed": true
   },
   "outputs": [],
   "source": []
  }
 ],
 "metadata": {
  "kernelspec": {
   "display_name": "Python 3",
   "language": "python",
   "name": "python3"
  },
  "language_info": {
   "codemirror_mode": {
    "name": "ipython",
    "version": 3
   },
   "file_extension": ".py",
   "mimetype": "text/x-python",
   "name": "python",
   "nbconvert_exporter": "python",
   "pygments_lexer": "ipython3",
   "version": "3.6.3"
  }
 },
 "nbformat": 4,
 "nbformat_minor": 2
}
